{
 "cells": [
  {
   "cell_type": "code",
   "execution_count": 2,
   "id": "497edb81",
   "metadata": {},
   "outputs": [],
   "source": [
    "import pandas as pd\n",
    "import numpy as np"
   ]
  },
  {
   "cell_type": "code",
   "execution_count": 3,
   "id": "647471f1",
   "metadata": {},
   "outputs": [],
   "source": [
    "df = pd.read_excel('hospital_rating_dataset.xlsx')\n"
   ]
  },
  {
   "cell_type": "code",
   "execution_count": 4,
   "id": "3c6a9340",
   "metadata": {},
   "outputs": [],
   "source": [
    "# Replace 'Not Available' with np.nan in the entire DataFrame\n",
    "df.replace('Not Applicable', np.nan, inplace=True)"
   ]
  },
  {
   "cell_type": "code",
   "execution_count": 5,
   "id": "0df88a16",
   "metadata": {},
   "outputs": [],
   "source": [
    "\n",
    "# Ensure values are numeric\n",
    "df['HCAHPS Answer Percent'] = pd.to_numeric(\n",
    "    df['HCAHPS Answer Percent'], errors='coerce'\n",
    ")\n",
    "\n",
    "pivot_df = df.pivot_table(\n",
    "    index='Facility ID',               # or 'Provider ID'\n",
    "    columns='HCAHPS Answer Description',\n",
    "    values='HCAHPS Answer Percent'\n",
    ").reset_index()\n"
   ]
  },
  {
   "cell_type": "code",
   "execution_count": 8,
   "id": "8b3417a1",
   "metadata": {},
   "outputs": [
    {
     "data": {
      "text/plain": [
       "HCAHPS Answer Description\n",
       "Facility ID                                                                                                       0\n",
       "\"Always\" quiet at night                                                                                           0\n",
       "\"NO\", patients would not recommend the hospital (they probably would not or definitely would not recommend it)    0\n",
       "\"Sometimes\" or \"never\" quiet at night                                                                             0\n",
       "\"Usually\" quiet at night                                                                                          0\n",
       "                                                                                                                 ..\n",
       "Staff \"usually\" explained new medications                                                                         0\n",
       "Staff \"usually\" explained possible side effects                                                                   0\n",
       "Yes, staff \"did\" give patients information about help after discharge                                             0\n",
       "Yes, staff \"did\" give patients information about possible symptoms                                                0\n",
       "Yes, staff \"did\" give patients this information                                                                   0\n",
       "Length: 73, dtype: int64"
      ]
     },
     "execution_count": 8,
     "metadata": {},
     "output_type": "execute_result"
    }
   ],
   "source": [
    "pivot_df = pivot_df.fillna(pivot_df.mean(numeric_only=True))\n",
    "pivot_df.isnull().sum()\n"
   ]
  },
  {
   "cell_type": "code",
   "execution_count": null,
   "id": "482eedb3",
   "metadata": {},
   "outputs": [],
   "source": [
    "#pivot_df.to_csv('preprocessed_data_df.csv', index=False)\n"
   ]
  },
  {
   "cell_type": "code",
   "execution_count": null,
   "id": "36018919",
   "metadata": {},
   "outputs": [
    {
     "name": "stdout",
     "output_type": "stream",
     "text": [
      "Nurse Records: 66906\n",
      "Doctor Records: 66906\n",
      "Staff Records: 66906\n",
      "patients Records: 344088\n",
      "rating Records: 71685\n"
     ]
    }
   ],
   "source": [
    "df['HCAHPS Question Lower'] = df['HCAHPS Question'].str.lower()\n",
    "\n",
    "# Extract data by role\n",
    "nurse_data = df[df['HCAHPS Question Lower'].str.contains('nurse', na=False)]\n",
    "doctor_data = df[df['HCAHPS Question Lower'].str.contains('doctor', na=False)]\n",
    "staff_data = df[df['HCAHPS Question Lower'].str.contains('staff', na=False)]\n",
    "patients_data = df[df['HCAHPS Question Lower'].str.contains('patients', na=False)]\n",
    "rating_data = df[df['HCAHPS Question Lower'].str.contains('rating', na=False)]\n",
    "\n",
    "\n",
    "# Now you can use nurse_data, doctor_data, and staff_data as needed\n",
    "print(\"Nurse Records:\", len(nurse_data))\n",
    "print(\"Doctor Records:\", len(doctor_data))\n",
    "print(\"Staff Records:\", len(staff_data))\n",
    "print(\"patients Records:\", len(patients_data))\n",
    "print(\"rating Records:\", len(rating_data))\n",
    "\n"
   ]
  },
  {
   "cell_type": "code",
   "execution_count": null,
   "id": "7004342f",
   "metadata": {},
   "outputs": [
    {
     "name": "stderr",
     "output_type": "stream",
     "text": [
      "C:\\Users\\HP\\AppData\\Local\\Temp\\ipykernel_6156\\4204272138.py:2: SettingWithCopyWarning: \n",
      "A value is trying to be set on a copy of a slice from a DataFrame.\n",
      "Try using .loc[row_indexer,col_indexer] = value instead\n",
      "\n",
      "See the caveats in the documentation: https://pandas.pydata.org/pandas-docs/stable/user_guide/indexing.html#returning-a-view-versus-a-copy\n",
      "  nurse_data['HCAHPS Answer Percent'] = pd.to_numeric(\n"
     ]
    }
   ],
   "source": [
    "\n",
    "# Ensure values are numeric\n",
    "nurse_data['HCAHPS Answer Percent'] = pd.to_numeric(\n",
    "    nurse_data['HCAHPS Answer Percent'], errors='coerce'\n",
    ")\n",
    "\n",
    "nurse_pivot_df = nurse_data.pivot_table(\n",
    "    index='Facility ID',               # or 'Provider ID'\n",
    "    columns='HCAHPS Answer Description',\n",
    "    values='HCAHPS Answer Percent'\n",
    ").reset_index()\n"
   ]
  },
  {
   "cell_type": "code",
   "execution_count": null,
   "id": "5f3e1ca0",
   "metadata": {},
   "outputs": [],
   "source": [
    "##nurse_pivot_df.head(5)"
   ]
  },
  {
   "cell_type": "code",
   "execution_count": null,
   "id": "d00a612a",
   "metadata": {},
   "outputs": [
    {
     "data": {
      "text/plain": [
       "\"import seaborn as sns\\nimport matplotlib.pyplot as plt\\n\\nsns.heatmap(nurse_pivot_df.isnull(), cbar=False)\\nplt.title('Missing Data Heatmap')\\nplt.show()\""
      ]
     },
     "execution_count": 9,
     "metadata": {},
     "output_type": "execute_result"
    }
   ],
   "source": [
    "'''import seaborn as sns\n",
    "import matplotlib.pyplot as plt\n",
    "\n",
    "sns.heatmap(nurse_pivot_df.isnull(), cbar=False)\n",
    "plt.title('Missing Data Heatmap')\n",
    "plt.show()'''\n"
   ]
  },
  {
   "cell_type": "code",
   "execution_count": null,
   "id": "02d2386d",
   "metadata": {},
   "outputs": [],
   "source": [
    "##nurse_pivot_df = nurse_pivot_df.fillna(nurse_pivot_df.mean(numeric_only=True))\n"
   ]
  },
  {
   "cell_type": "code",
   "execution_count": null,
   "id": "2435774b",
   "metadata": {},
   "outputs": [],
   "source": [
    "##nurse_pivot_df.isnull().sum()"
   ]
  },
  {
   "cell_type": "code",
   "execution_count": null,
   "id": "0f47594f",
   "metadata": {},
   "outputs": [],
   "source": [
    "##nurse_pivot_df.to_csv('nurse_pivot_df.csv', index=False)\n"
   ]
  },
  {
   "cell_type": "code",
   "execution_count": null,
   "id": "5f013c5c",
   "metadata": {},
   "outputs": [
    {
     "name": "stderr",
     "output_type": "stream",
     "text": [
      "C:\\Users\\HP\\AppData\\Local\\Temp\\ipykernel_6156\\2810421130.py:2: SettingWithCopyWarning: \n",
      "A value is trying to be set on a copy of a slice from a DataFrame.\n",
      "Try using .loc[row_indexer,col_indexer] = value instead\n",
      "\n",
      "See the caveats in the documentation: https://pandas.pydata.org/pandas-docs/stable/user_guide/indexing.html#returning-a-view-versus-a-copy\n",
      "  doctor_data['HCAHPS Answer Percent'] = pd.to_numeric(\n"
     ]
    }
   ],
   "source": [
    "\n",
    "# Ensure values are numeric\n",
    "doctor_data['HCAHPS Answer Percent'] = pd.to_numeric(\n",
    "    doctor_data['HCAHPS Answer Percent'], errors='coerce'\n",
    ")\n",
    "\n",
    "doctor_data_pivot_df = doctor_data.pivot_table(\n",
    "    index='Facility ID',               # or 'Provider ID'\n",
    "    columns='HCAHPS Answer Description',\n",
    "    values='HCAHPS Answer Percent'\n",
    ").reset_index()\n"
   ]
  },
  {
   "cell_type": "code",
   "execution_count": null,
   "id": "d7db7549",
   "metadata": {},
   "outputs": [],
   "source": [
    "##doctor_data_pivot_df.isnull().sum()"
   ]
  },
  {
   "cell_type": "code",
   "execution_count": null,
   "id": "2919eede",
   "metadata": {},
   "outputs": [],
   "source": [
    "##doctor_data_pivot_df.shape"
   ]
  },
  {
   "cell_type": "code",
   "execution_count": null,
   "id": "23ed51b5",
   "metadata": {},
   "outputs": [],
   "source": [
    "#doctor_data_pivot_df = doctor_data_pivot_df.fillna(doctor_data_pivot_df.mean(numeric_only=True))\n"
   ]
  },
  {
   "cell_type": "code",
   "execution_count": null,
   "id": "80829a9a",
   "metadata": {},
   "outputs": [],
   "source": [
    "#doctor_data_pivot_df.to_csv('doctor_df.csv', index=False)\n"
   ]
  },
  {
   "cell_type": "code",
   "execution_count": null,
   "id": "e3340c22",
   "metadata": {},
   "outputs": [
    {
     "name": "stderr",
     "output_type": "stream",
     "text": [
      "C:\\Users\\HP\\AppData\\Local\\Temp\\ipykernel_6156\\3607213691.py:2: SettingWithCopyWarning: \n",
      "A value is trying to be set on a copy of a slice from a DataFrame.\n",
      "Try using .loc[row_indexer,col_indexer] = value instead\n",
      "\n",
      "See the caveats in the documentation: https://pandas.pydata.org/pandas-docs/stable/user_guide/indexing.html#returning-a-view-versus-a-copy\n",
      "  staff_data['HCAHPS Answer Percent'] = pd.to_numeric(\n"
     ]
    }
   ],
   "source": [
    "\n",
    "# Ensure values are numeric\n",
    "staff_data['HCAHPS Answer Percent'] = pd.to_numeric(\n",
    "    staff_data['HCAHPS Answer Percent'], errors='coerce'\n",
    ")\n",
    "\n",
    "staff_pivot_df = staff_data.pivot_table(\n",
    "    index='Facility ID',               # or 'Provider ID'\n",
    "    columns='HCAHPS Answer Description',\n",
    "    values='HCAHPS Answer Percent'\n",
    ").reset_index()\n"
   ]
  },
  {
   "cell_type": "code",
   "execution_count": null,
   "id": "206360d5",
   "metadata": {},
   "outputs": [],
   "source": [
    "##staff_pivot_df.isnull().sum()"
   ]
  },
  {
   "cell_type": "code",
   "execution_count": null,
   "id": "81b45687",
   "metadata": {},
   "outputs": [],
   "source": [
    "##staff_pivot_df = staff_pivot_df.fillna(staff_pivot_df.mean(numeric_only=True))\n",
    "##staff_pivot_df.isnull().sum()"
   ]
  },
  {
   "cell_type": "code",
   "execution_count": null,
   "id": "da7da1ea",
   "metadata": {},
   "outputs": [],
   "source": [
    "##staff_pivot_df.to_csv('staff_df.csv', index=False)\n"
   ]
  },
  {
   "cell_type": "code",
   "execution_count": null,
   "id": "b4077aac",
   "metadata": {},
   "outputs": [
    {
     "name": "stderr",
     "output_type": "stream",
     "text": [
      "C:\\Users\\HP\\AppData\\Local\\Temp\\ipykernel_6156\\2675684726.py:2: SettingWithCopyWarning: \n",
      "A value is trying to be set on a copy of a slice from a DataFrame.\n",
      "Try using .loc[row_indexer,col_indexer] = value instead\n",
      "\n",
      "See the caveats in the documentation: https://pandas.pydata.org/pandas-docs/stable/user_guide/indexing.html#returning-a-view-versus-a-copy\n",
      "  patients_data['HCAHPS Answer Percent'] = pd.to_numeric(\n"
     ]
    }
   ],
   "source": [
    "\n",
    "# Ensure values are numeric\n",
    "patients_data['HCAHPS Answer Percent'] = pd.to_numeric(\n",
    "    patients_data['HCAHPS Answer Percent'], errors='coerce'\n",
    ")\n",
    "\n",
    "patients_pivot_df = patients_data.pivot_table(\n",
    "    index='Facility ID',               # or 'Provider ID'\n",
    "    columns='HCAHPS Answer Description',\n",
    "    values='HCAHPS Answer Percent'\n",
    ").reset_index()\n"
   ]
  },
  {
   "cell_type": "code",
   "execution_count": null,
   "id": "564a61e4",
   "metadata": {},
   "outputs": [],
   "source": [
    "##patients_pivot_df.isnull().sum()"
   ]
  },
  {
   "cell_type": "code",
   "execution_count": null,
   "id": "ed229c65",
   "metadata": {},
   "outputs": [],
   "source": [
    "##patients_pivot_df = patients_pivot_df.fillna(patients_pivot_df.mean(numeric_only=True))\n",
    "##patients_pivot_df.isnull().sum()"
   ]
  },
  {
   "cell_type": "code",
   "execution_count": null,
   "id": "86196cfd",
   "metadata": {},
   "outputs": [],
   "source": [
    "##patients_pivot_df.to_csv('patient_df.csv', index=False)\n"
   ]
  },
  {
   "cell_type": "code",
   "execution_count": null,
   "id": "c3da3959",
   "metadata": {},
   "outputs": [
    {
     "name": "stderr",
     "output_type": "stream",
     "text": [
      "C:\\Users\\HP\\AppData\\Local\\Temp\\ipykernel_6156\\2658699030.py:2: SettingWithCopyWarning: \n",
      "A value is trying to be set on a copy of a slice from a DataFrame.\n",
      "Try using .loc[row_indexer,col_indexer] = value instead\n",
      "\n",
      "See the caveats in the documentation: https://pandas.pydata.org/pandas-docs/stable/user_guide/indexing.html#returning-a-view-versus-a-copy\n",
      "  rating_data['HCAHPS Answer Percent'] = pd.to_numeric(\n"
     ]
    }
   ],
   "source": [
    "\n",
    "# Ensure values are numeric\n",
    "rating_data['HCAHPS Answer Percent'] = pd.to_numeric(\n",
    "    rating_data['HCAHPS Answer Percent'], errors='coerce'\n",
    ")\n",
    "\n",
    "rating_pivot_df = rating_data.pivot_table(\n",
    "    index='Facility ID',               # or 'Provider ID'\n",
    "    columns='HCAHPS Answer Description',\n",
    "    values='HCAHPS Answer Percent'\n",
    ").reset_index()\n"
   ]
  },
  {
   "cell_type": "code",
   "execution_count": null,
   "id": "c36c061e",
   "metadata": {},
   "outputs": [],
   "source": [
    "##rating_pivot_df.isnull().sum()"
   ]
  },
  {
   "cell_type": "code",
   "execution_count": null,
   "id": "8596b8a1",
   "metadata": {},
   "outputs": [],
   "source": [
    "##rating_pivot_df.to_csv('rating_df.csv', index=False)\n"
   ]
  },
  {
   "cell_type": "code",
   "execution_count": null,
   "id": "5bf9e097",
   "metadata": {},
   "outputs": [],
   "source": [
    "#df1 = pd.read_csv(\"rating_df.csv\")\n",
    "#df2 = pd.read_csv(\"staff_df.csv\")"
   ]
  },
  {
   "cell_type": "code",
   "execution_count": null,
   "id": "58d22eea",
   "metadata": {},
   "outputs": [],
   "source": [
    "\n",
    "#merged_df = pd.merge(df1, df2, on='Facility ID')\n"
   ]
  },
  {
   "cell_type": "code",
   "execution_count": null,
   "id": "33101db9",
   "metadata": {},
   "outputs": [
    {
     "data": {
      "text/html": [
       "<div>\n",
       "<style scoped>\n",
       "    .dataframe tbody tr th:only-of-type {\n",
       "        vertical-align: middle;\n",
       "    }\n",
       "\n",
       "    .dataframe tbody tr th {\n",
       "        vertical-align: top;\n",
       "    }\n",
       "\n",
       "    .dataframe thead th {\n",
       "        text-align: right;\n",
       "    }\n",
       "</style>\n",
       "<table border=\"1\" class=\"dataframe\">\n",
       "  <thead>\n",
       "    <tr style=\"text-align: right;\">\n",
       "      <th></th>\n",
       "      <th>Facility ID</th>\n",
       "      <th>Patients who gave a rating of \"6\" or lower (low)</th>\n",
       "      <th>Patients who gave a rating of \"7\" or \"8\" (medium)</th>\n",
       "      <th>Patients who gave a rating of \"9\" or \"10\" (high)</th>\n",
       "      <th>Patients who \"Agree\" that staff took their preferences into account</th>\n",
       "      <th>Patients who \"Disagree\" or \"Strongly Disagree\" that staff took their preferences into account</th>\n",
       "      <th>Patients who \"Strongly Agree\" that staff took their preferences into account</th>\n",
       "      <th>Staff \"always\" explained</th>\n",
       "      <th>Staff \"always\" explained new medications</th>\n",
       "      <th>Staff \"always\" explained possible side effects</th>\n",
       "      <th>Staff \"sometimes\" or \"never\" explained</th>\n",
       "      <th>Staff \"sometimes\" or \"never\" explained new medications</th>\n",
       "      <th>Staff \"sometimes\" or \"never\" explained possible side effects</th>\n",
       "      <th>Staff \"usually\" explained</th>\n",
       "      <th>Staff \"usually\" explained new medications</th>\n",
       "      <th>Staff \"usually\" explained possible side effects</th>\n",
       "    </tr>\n",
       "  </thead>\n",
       "  <tbody>\n",
       "    <tr>\n",
       "      <th>0</th>\n",
       "      <td>10001.0</td>\n",
       "      <td>8.0</td>\n",
       "      <td>21.0</td>\n",
       "      <td>71.0</td>\n",
       "      <td>48.000000</td>\n",
       "      <td>8.000000</td>\n",
       "      <td>44.000000</td>\n",
       "      <td>56.0</td>\n",
       "      <td>70.000000</td>\n",
       "      <td>42.000000</td>\n",
       "      <td>23.0</td>\n",
       "      <td>12.00000</td>\n",
       "      <td>33.000000</td>\n",
       "      <td>21.0</td>\n",
       "      <td>18.000000</td>\n",
       "      <td>25.000000</td>\n",
       "    </tr>\n",
       "    <tr>\n",
       "      <th>1</th>\n",
       "      <td>10005.0</td>\n",
       "      <td>9.0</td>\n",
       "      <td>22.0</td>\n",
       "      <td>69.0</td>\n",
       "      <td>52.000000</td>\n",
       "      <td>6.000000</td>\n",
       "      <td>42.000000</td>\n",
       "      <td>61.0</td>\n",
       "      <td>76.000000</td>\n",
       "      <td>46.000000</td>\n",
       "      <td>20.0</td>\n",
       "      <td>8.00000</td>\n",
       "      <td>31.000000</td>\n",
       "      <td>19.0</td>\n",
       "      <td>16.000000</td>\n",
       "      <td>23.000000</td>\n",
       "    </tr>\n",
       "    <tr>\n",
       "      <th>2</th>\n",
       "      <td>10006.0</td>\n",
       "      <td>16.0</td>\n",
       "      <td>24.0</td>\n",
       "      <td>60.0</td>\n",
       "      <td>53.000000</td>\n",
       "      <td>11.000000</td>\n",
       "      <td>36.000000</td>\n",
       "      <td>51.0</td>\n",
       "      <td>64.000000</td>\n",
       "      <td>38.000000</td>\n",
       "      <td>29.0</td>\n",
       "      <td>17.00000</td>\n",
       "      <td>42.000000</td>\n",
       "      <td>20.0</td>\n",
       "      <td>19.000000</td>\n",
       "      <td>20.000000</td>\n",
       "    </tr>\n",
       "    <tr>\n",
       "      <th>3</th>\n",
       "      <td>10007.0</td>\n",
       "      <td>2.0</td>\n",
       "      <td>25.0</td>\n",
       "      <td>73.0</td>\n",
       "      <td>52.000000</td>\n",
       "      <td>5.000000</td>\n",
       "      <td>43.000000</td>\n",
       "      <td>61.0</td>\n",
       "      <td>71.000000</td>\n",
       "      <td>52.000000</td>\n",
       "      <td>11.0</td>\n",
       "      <td>7.00000</td>\n",
       "      <td>15.000000</td>\n",
       "      <td>28.0</td>\n",
       "      <td>22.000000</td>\n",
       "      <td>33.000000</td>\n",
       "    </tr>\n",
       "    <tr>\n",
       "      <th>4</th>\n",
       "      <td>10008.0</td>\n",
       "      <td>3.0</td>\n",
       "      <td>19.0</td>\n",
       "      <td>78.0</td>\n",
       "      <td>47.929339</td>\n",
       "      <td>7.513284</td>\n",
       "      <td>44.557377</td>\n",
       "      <td>67.0</td>\n",
       "      <td>73.754098</td>\n",
       "      <td>46.339457</td>\n",
       "      <td>10.0</td>\n",
       "      <td>10.00424</td>\n",
       "      <td>31.512719</td>\n",
       "      <td>23.0</td>\n",
       "      <td>16.241662</td>\n",
       "      <td>22.147824</td>\n",
       "    </tr>\n",
       "  </tbody>\n",
       "</table>\n",
       "</div>"
      ],
      "text/plain": [
       "   Facility ID  Patients who gave a rating of \"6\" or lower (low)  \\\n",
       "0      10001.0                                               8.0   \n",
       "1      10005.0                                               9.0   \n",
       "2      10006.0                                              16.0   \n",
       "3      10007.0                                               2.0   \n",
       "4      10008.0                                               3.0   \n",
       "\n",
       "   Patients who gave a rating of \"7\" or \"8\" (medium)  \\\n",
       "0                                               21.0   \n",
       "1                                               22.0   \n",
       "2                                               24.0   \n",
       "3                                               25.0   \n",
       "4                                               19.0   \n",
       "\n",
       "   Patients who gave a rating of \"9\" or \"10\" (high)  \\\n",
       "0                                              71.0   \n",
       "1                                              69.0   \n",
       "2                                              60.0   \n",
       "3                                              73.0   \n",
       "4                                              78.0   \n",
       "\n",
       "   Patients who \"Agree\" that staff took their preferences into account  \\\n",
       "0                                          48.000000                     \n",
       "1                                          52.000000                     \n",
       "2                                          53.000000                     \n",
       "3                                          52.000000                     \n",
       "4                                          47.929339                     \n",
       "\n",
       "   Patients who \"Disagree\" or \"Strongly Disagree\" that staff took their preferences into account  \\\n",
       "0                                           8.000000                                               \n",
       "1                                           6.000000                                               \n",
       "2                                          11.000000                                               \n",
       "3                                           5.000000                                               \n",
       "4                                           7.513284                                               \n",
       "\n",
       "   Patients who \"Strongly Agree\" that staff took their preferences into account  \\\n",
       "0                                          44.000000                              \n",
       "1                                          42.000000                              \n",
       "2                                          36.000000                              \n",
       "3                                          43.000000                              \n",
       "4                                          44.557377                              \n",
       "\n",
       "   Staff \"always\" explained  Staff \"always\" explained new medications  \\\n",
       "0                      56.0                                 70.000000   \n",
       "1                      61.0                                 76.000000   \n",
       "2                      51.0                                 64.000000   \n",
       "3                      61.0                                 71.000000   \n",
       "4                      67.0                                 73.754098   \n",
       "\n",
       "   Staff \"always\" explained possible side effects  \\\n",
       "0                                       42.000000   \n",
       "1                                       46.000000   \n",
       "2                                       38.000000   \n",
       "3                                       52.000000   \n",
       "4                                       46.339457   \n",
       "\n",
       "   Staff \"sometimes\" or \"never\" explained  \\\n",
       "0                                    23.0   \n",
       "1                                    20.0   \n",
       "2                                    29.0   \n",
       "3                                    11.0   \n",
       "4                                    10.0   \n",
       "\n",
       "   Staff \"sometimes\" or \"never\" explained new medications  \\\n",
       "0                                           12.00000        \n",
       "1                                            8.00000        \n",
       "2                                           17.00000        \n",
       "3                                            7.00000        \n",
       "4                                           10.00424        \n",
       "\n",
       "   Staff \"sometimes\" or \"never\" explained possible side effects  \\\n",
       "0                                          33.000000              \n",
       "1                                          31.000000              \n",
       "2                                          42.000000              \n",
       "3                                          15.000000              \n",
       "4                                          31.512719              \n",
       "\n",
       "   Staff \"usually\" explained  Staff \"usually\" explained new medications  \\\n",
       "0                       21.0                                  18.000000   \n",
       "1                       19.0                                  16.000000   \n",
       "2                       20.0                                  19.000000   \n",
       "3                       28.0                                  22.000000   \n",
       "4                       23.0                                  16.241662   \n",
       "\n",
       "   Staff \"usually\" explained possible side effects  \n",
       "0                                        25.000000  \n",
       "1                                        23.000000  \n",
       "2                                        20.000000  \n",
       "3                                        33.000000  \n",
       "4                                        22.147824  "
      ]
     },
     "execution_count": 46,
     "metadata": {},
     "output_type": "execute_result"
    }
   ],
   "source": [
    "#merged_df.head()"
   ]
  },
  {
   "cell_type": "code",
   "execution_count": null,
   "id": "79b05621",
   "metadata": {},
   "outputs": [],
   "source": [
    "#merged_df.to_csv('staff.csv', index=False)\n"
   ]
  },
  {
   "cell_type": "code",
   "execution_count": null,
   "id": "c18ab9d5",
   "metadata": {},
   "outputs": [],
   "source": []
  }
 ],
 "metadata": {
  "kernelspec": {
   "display_name": "Python 3",
   "language": "python",
   "name": "python3"
  },
  "language_info": {
   "codemirror_mode": {
    "name": "ipython",
    "version": 3
   },
   "file_extension": ".py",
   "mimetype": "text/x-python",
   "name": "python",
   "nbconvert_exporter": "python",
   "pygments_lexer": "ipython3",
   "version": "3.12.3"
  }
 },
 "nbformat": 4,
 "nbformat_minor": 5
}
